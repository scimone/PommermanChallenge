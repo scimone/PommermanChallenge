{
  "nbformat": 4,
  "nbformat_minor": 0,
  "metadata": {
    "accelerator": "GPU",
    "colab": {
      "name": "code1.ipynb",
      "provenance": [],
      "collapsed_sections": [],
      "machine_shape": "hm"
    },
    "kernelspec": {
      "display_name": "Python 3",
      "name": "python3"
    }
  },
  "cells": [
    {
      "cell_type": "markdown",
      "metadata": {
        "id": "ZI8jOSC4A3dq"
      },
      "source": [
        "# Prerequisites"
      ]
    },
    {
      "cell_type": "code",
      "metadata": {
        "colab": {
          "base_uri": "https://localhost:8080/",
          "height": 1000
        },
        "id": "tDmexHF8v7GL",
        "outputId": "91b120b5-6a2e-4753-d07d-88a260233421"
      },
      "source": [
        "!pip install torch==1.8.1+cu111 torchvision==0.9.1+cu111 torchaudio==0.8.1 -f https://download.pytorch.org/whl/torch_stable.html\n",
        "!pip install tqdm\n",
        "!pip install torchvision\n",
        "!pip install seaborn\n",
        "!pip install sklearn\n",
        "!pip install numpy\n",
        "!pip install opencv-python\n",
        "\n",
        "\n",
        "# ## commands to install the env\n",
        "!git clone https://github.com/MultiAgentLearning/playground ./pommer_setup\n",
        "!pip install -U ./pommer_setup\n",
        "!rm -rf ./pommer_setup"
      ],
      "execution_count": 1,
      "outputs": [
        {
          "output_type": "stream",
          "text": [
            "Looking in links: https://download.pytorch.org/whl/torch_stable.html\n",
            "Collecting torch==1.8.1+cu111\n",
            "\u001b[?25l  Downloading https://download.pytorch.org/whl/cu111/torch-1.8.1%2Bcu111-cp37-cp37m-linux_x86_64.whl (1982.2MB)\n",
            "\u001b[K     |█████████████▌                  | 834.1MB 1.3MB/s eta 0:14:50tcmalloc: large alloc 1147494400 bytes == 0x55bf050a0000 @  0x7ff9ab500615 0x55becc883cdc 0x55becc96352a 0x55becc886afd 0x55becc977fed 0x55becc8fa988 0x55becc8f54ae 0x55becc8883ea 0x55becc8fa7f0 0x55becc8f54ae 0x55becc8883ea 0x55becc8f732a 0x55becc978e36 0x55becc8f6853 0x55becc978e36 0x55becc8f6853 0x55becc978e36 0x55becc8f6853 0x55becc978e36 0x55becc9fb3e1 0x55becc95b6a9 0x55becc8c6cc4 0x55becc887559 0x55becc8fb4f8 0x55becc88830a 0x55becc8f63b5 0x55becc8f57ad 0x55becc8883ea 0x55becc8f63b5 0x55becc88830a 0x55becc8f63b5\n",
            "\u001b[K     |█████████████████               | 1055.7MB 1.2MB/s eta 0:12:27tcmalloc: large alloc 1434370048 bytes == 0x55bf496f6000 @  0x7ff9ab500615 0x55becc883cdc 0x55becc96352a 0x55becc886afd 0x55becc977fed 0x55becc8fa988 0x55becc8f54ae 0x55becc8883ea 0x55becc8fa7f0 0x55becc8f54ae 0x55becc8883ea 0x55becc8f732a 0x55becc978e36 0x55becc8f6853 0x55becc978e36 0x55becc8f6853 0x55becc978e36 0x55becc8f6853 0x55becc978e36 0x55becc9fb3e1 0x55becc95b6a9 0x55becc8c6cc4 0x55becc887559 0x55becc8fb4f8 0x55becc88830a 0x55becc8f63b5 0x55becc8f57ad 0x55becc8883ea 0x55becc8f63b5 0x55becc88830a 0x55becc8f63b5\n",
            "\u001b[K     |█████████████████████▋          | 1336.2MB 54.0MB/s eta 0:00:12tcmalloc: large alloc 1792966656 bytes == 0x55bece528000 @  0x7ff9ab500615 0x55becc883cdc 0x55becc96352a 0x55becc886afd 0x55becc977fed 0x55becc8fa988 0x55becc8f54ae 0x55becc8883ea 0x55becc8fa7f0 0x55becc8f54ae 0x55becc8883ea 0x55becc8f732a 0x55becc978e36 0x55becc8f6853 0x55becc978e36 0x55becc8f6853 0x55becc978e36 0x55becc8f6853 0x55becc978e36 0x55becc9fb3e1 0x55becc95b6a9 0x55becc8c6cc4 0x55becc887559 0x55becc8fb4f8 0x55becc88830a 0x55becc8f63b5 0x55becc8f57ad 0x55becc8883ea 0x55becc8f63b5 0x55becc88830a 0x55becc8f63b5\n",
            "\u001b[K     |███████████████████████████▎    | 1691.1MB 1.2MB/s eta 0:03:55tcmalloc: large alloc 2241208320 bytes == 0x55bf39310000 @  0x7ff9ab500615 0x55becc883cdc 0x55becc96352a 0x55becc886afd 0x55becc977fed 0x55becc8fa988 0x55becc8f54ae 0x55becc8883ea 0x55becc8fa7f0 0x55becc8f54ae 0x55becc8883ea 0x55becc8f732a 0x55becc978e36 0x55becc8f6853 0x55becc978e36 0x55becc8f6853 0x55becc978e36 0x55becc8f6853 0x55becc978e36 0x55becc9fb3e1 0x55becc95b6a9 0x55becc8c6cc4 0x55becc887559 0x55becc8fb4f8 0x55becc88830a 0x55becc8f63b5 0x55becc8f57ad 0x55becc8883ea 0x55becc8f63b5 0x55becc88830a 0x55becc8f63b5\n",
            "\u001b[K     |████████████████████████████████| 1982.2MB 1.2MB/s eta 0:00:01tcmalloc: large alloc 1982177280 bytes == 0x55bfbec72000 @  0x7ff9ab4ff1e7 0x55becc8b9f37 0x55becc883cdc 0x55becc96352a 0x55becc886afd 0x55becc977fed 0x55becc8fa988 0x55becc8f54ae 0x55becc8883ea 0x55becc8f660e 0x55becc8f54ae 0x55becc8883ea 0x55becc8f660e 0x55becc8f54ae 0x55becc8883ea 0x55becc8f660e 0x55becc8f54ae 0x55becc8883ea 0x55becc8f660e 0x55becc8f54ae 0x55becc8883ea 0x55becc8f660e 0x55becc88830a 0x55becc8f660e 0x55becc8f54ae 0x55becc8883ea 0x55becc8f732a 0x55becc8f54ae 0x55becc8883ea 0x55becc8f732a 0x55becc8f54ae\n",
            "tcmalloc: large alloc 2477727744 bytes == 0x55c0a938a000 @  0x7ff9ab500615 0x55becc883cdc 0x55becc96352a 0x55becc886afd 0x55becc977fed 0x55becc8fa988 0x55becc8f54ae 0x55becc8883ea 0x55becc8f660e 0x55becc8f54ae 0x55becc8883ea 0x55becc8f660e 0x55becc8f54ae 0x55becc8883ea 0x55becc8f660e 0x55becc8f54ae 0x55becc8883ea 0x55becc8f660e 0x55becc8f54ae 0x55becc8883ea 0x55becc8f660e 0x55becc88830a 0x55becc8f660e 0x55becc8f54ae 0x55becc8883ea 0x55becc8f732a 0x55becc8f54ae 0x55becc8883ea 0x55becc8f732a 0x55becc8f54ae 0x55becc888a81\n",
            "\u001b[K     |████████████████████████████████| 1982.2MB 6.6kB/s \n",
            "\u001b[?25hCollecting torchvision==0.9.1+cu111\n",
            "\u001b[?25l  Downloading https://download.pytorch.org/whl/cu111/torchvision-0.9.1%2Bcu111-cp37-cp37m-linux_x86_64.whl (17.6MB)\n",
            "\u001b[K     |████████████████████████████████| 17.6MB 322kB/s \n",
            "\u001b[?25hCollecting torchaudio==0.8.1\n",
            "\u001b[?25l  Downloading https://files.pythonhosted.org/packages/aa/55/01ad9244bcd595e39cea5ce30726a7fe02fd963d07daeb136bfe7e23f0a5/torchaudio-0.8.1-cp37-cp37m-manylinux1_x86_64.whl (1.9MB)\n",
            "\u001b[K     |████████████████████████████████| 1.9MB 12.7MB/s \n",
            "\u001b[?25hRequirement already satisfied: typing-extensions in /usr/local/lib/python3.7/dist-packages (from torch==1.8.1+cu111) (3.7.4.3)\n",
            "Requirement already satisfied: numpy in /usr/local/lib/python3.7/dist-packages (from torch==1.8.1+cu111) (1.19.5)\n",
            "Requirement already satisfied: pillow>=4.1.1 in /usr/local/lib/python3.7/dist-packages (from torchvision==0.9.1+cu111) (7.1.2)\n",
            "\u001b[31mERROR: torchtext 0.10.0 has requirement torch==1.9.0, but you'll have torch 1.8.1+cu111 which is incompatible.\u001b[0m\n",
            "Installing collected packages: torch, torchvision, torchaudio\n",
            "  Found existing installation: torch 1.9.0+cu102\n",
            "    Uninstalling torch-1.9.0+cu102:\n",
            "      Successfully uninstalled torch-1.9.0+cu102\n",
            "  Found existing installation: torchvision 0.10.0+cu102\n",
            "    Uninstalling torchvision-0.10.0+cu102:\n",
            "      Successfully uninstalled torchvision-0.10.0+cu102\n",
            "Successfully installed torch-1.8.1+cu111 torchaudio-0.8.1 torchvision-0.9.1+cu111\n",
            "Requirement already satisfied: tqdm in /usr/local/lib/python3.7/dist-packages (4.41.1)\n",
            "Requirement already satisfied: torchvision in /usr/local/lib/python3.7/dist-packages (0.9.1+cu111)\n",
            "Requirement already satisfied: pillow>=4.1.1 in /usr/local/lib/python3.7/dist-packages (from torchvision) (7.1.2)\n",
            "Requirement already satisfied: torch==1.8.1 in /usr/local/lib/python3.7/dist-packages (from torchvision) (1.8.1+cu111)\n",
            "Requirement already satisfied: numpy in /usr/local/lib/python3.7/dist-packages (from torchvision) (1.19.5)\n",
            "Requirement already satisfied: typing-extensions in /usr/local/lib/python3.7/dist-packages (from torch==1.8.1->torchvision) (3.7.4.3)\n",
            "Requirement already satisfied: seaborn in /usr/local/lib/python3.7/dist-packages (0.11.1)\n",
            "Requirement already satisfied: numpy>=1.15 in /usr/local/lib/python3.7/dist-packages (from seaborn) (1.19.5)\n",
            "Requirement already satisfied: scipy>=1.0 in /usr/local/lib/python3.7/dist-packages (from seaborn) (1.4.1)\n",
            "Requirement already satisfied: pandas>=0.23 in /usr/local/lib/python3.7/dist-packages (from seaborn) (1.1.5)\n",
            "Requirement already satisfied: matplotlib>=2.2 in /usr/local/lib/python3.7/dist-packages (from seaborn) (3.2.2)\n",
            "Requirement already satisfied: python-dateutil>=2.7.3 in /usr/local/lib/python3.7/dist-packages (from pandas>=0.23->seaborn) (2.8.1)\n",
            "Requirement already satisfied: pytz>=2017.2 in /usr/local/lib/python3.7/dist-packages (from pandas>=0.23->seaborn) (2018.9)\n",
            "Requirement already satisfied: kiwisolver>=1.0.1 in /usr/local/lib/python3.7/dist-packages (from matplotlib>=2.2->seaborn) (1.3.1)\n",
            "Requirement already satisfied: pyparsing!=2.0.4,!=2.1.2,!=2.1.6,>=2.0.1 in /usr/local/lib/python3.7/dist-packages (from matplotlib>=2.2->seaborn) (2.4.7)\n",
            "Requirement already satisfied: cycler>=0.10 in /usr/local/lib/python3.7/dist-packages (from matplotlib>=2.2->seaborn) (0.10.0)\n",
            "Requirement already satisfied: six>=1.5 in /usr/local/lib/python3.7/dist-packages (from python-dateutil>=2.7.3->pandas>=0.23->seaborn) (1.15.0)\n",
            "Requirement already satisfied: sklearn in /usr/local/lib/python3.7/dist-packages (0.0)\n",
            "Requirement already satisfied: scikit-learn in /usr/local/lib/python3.7/dist-packages (from sklearn) (0.22.2.post1)\n",
            "Requirement already satisfied: numpy>=1.11.0 in /usr/local/lib/python3.7/dist-packages (from scikit-learn->sklearn) (1.19.5)\n",
            "Requirement already satisfied: scipy>=0.17.0 in /usr/local/lib/python3.7/dist-packages (from scikit-learn->sklearn) (1.4.1)\n",
            "Requirement already satisfied: joblib>=0.11 in /usr/local/lib/python3.7/dist-packages (from scikit-learn->sklearn) (1.0.1)\n",
            "Requirement already satisfied: numpy in /usr/local/lib/python3.7/dist-packages (1.19.5)\n",
            "Requirement already satisfied: opencv-python in /usr/local/lib/python3.7/dist-packages (4.1.2.30)\n",
            "Requirement already satisfied: numpy>=1.14.5 in /usr/local/lib/python3.7/dist-packages (from opencv-python) (1.19.5)\n",
            "Cloning into './pommer_setup'...\n",
            "remote: Enumerating objects: 2237, done.\u001b[K\n",
            "remote: Counting objects: 100% (15/15), done.\u001b[K\n",
            "remote: Compressing objects: 100% (15/15), done.\u001b[K\n",
            "remote: Total 2237 (delta 8), reused 0 (delta 0), pack-reused 2222\u001b[K\n",
            "Receiving objects: 100% (2237/2237), 2.91 MiB | 28.11 MiB/s, done.\n",
            "Resolving deltas: 100% (1241/1241), done.\n",
            "Processing ./pommer_setup\n",
            "Collecting docker~=3.1\n",
            "\u001b[?25l  Downloading https://files.pythonhosted.org/packages/09/da/7cc7ecdcd01145e9924a8ccbe9c1baf3a362fc75d4cb150676eb5231ea60/docker-3.7.3-py2.py3-none-any.whl (134kB)\n",
            "\u001b[K     |████████████████████████████████| 143kB 14.5MB/s \n",
            "\u001b[?25hCollecting gym~=0.10.5\n",
            "\u001b[?25l  Downloading https://files.pythonhosted.org/packages/87/04/70d4901b7105082c9742acd64728342f6da7cd471572fd0660a73f9cfe27/gym-0.10.11.tar.gz (1.5MB)\n",
            "\u001b[K     |████████████████████████████████| 1.5MB 25.4MB/s \n",
            "\u001b[?25hRequirement already satisfied, skipping upgrade: scipy~=1.0 in /usr/local/lib/python3.7/dist-packages (from pommerman==0.2.0) (1.4.1)\n",
            "Collecting Pillow~=5.0\n",
            "\u001b[?25l  Downloading https://files.pythonhosted.org/packages/ae/2a/0a0ab2833e5270664fb5fae590717f867ac6319b124160c09f1d3291de28/Pillow-5.4.1-cp37-cp37m-manylinux1_x86_64.whl (2.0MB)\n",
            "\u001b[K     |████████████████████████████████| 2.0MB 56.9MB/s \n",
            "\u001b[?25hCollecting ruamel.yaml~=0.15\n",
            "\u001b[?25l  Downloading https://files.pythonhosted.org/packages/74/c6/0aa1aaaa56c9d320f19d9ca3f8304bc6ace8fab95932b1602cbe091ae4a3/ruamel.yaml-0.17.9-py3-none-any.whl (108kB)\n",
            "\u001b[K     |████████████████████████████████| 112kB 47.4MB/s \n",
            "\u001b[?25hCollecting Flask~=0.12\n",
            "\u001b[?25l  Downloading https://files.pythonhosted.org/packages/a4/36/756c34af4523bb0dfa77d3c83455bc4d5d01d6f03b20d8414f3e4deb8669/Flask-0.12.5-py2.py3-none-any.whl (81kB)\n",
            "\u001b[K     |████████████████████████████████| 81kB 12.1MB/s \n",
            "\u001b[?25hRequirement already satisfied, skipping upgrade: requests~=2.18 in /usr/local/lib/python3.7/dist-packages (from pommerman==0.2.0) (2.23.0)\n",
            "Collecting jsonmerge~=1.5.1\n",
            "  Downloading https://files.pythonhosted.org/packages/e5/d8/f06bd65469b25010ff4b924fbd09a8f2a849325cbce947f56516858df17e/jsonmerge-1.5.2.tar.gz\n",
            "Collecting astroid>=2\n",
            "\u001b[?25l  Downloading https://files.pythonhosted.org/packages/ea/d2/63b1c3dd49175282fe802ad63c647c97e2cadfcdff4227da49f017911640/astroid-2.5.8-py3-none-any.whl (223kB)\n",
            "\u001b[K     |████████████████████████████████| 225kB 50.1MB/s \n",
            "\u001b[?25hCollecting isort~=4.3.4\n",
            "\u001b[?25l  Downloading https://files.pythonhosted.org/packages/e5/b0/c121fd1fa3419ea9bfd55c7f9c4fedfec5143208d8c7ad3ce3db6c623c21/isort-4.3.21-py2.py3-none-any.whl (42kB)\n",
            "\u001b[K     |████████████████████████████████| 51kB 8.0MB/s \n",
            "\u001b[?25hCollecting pylint>=2\n",
            "\u001b[?25l  Downloading https://files.pythonhosted.org/packages/b2/97/a584ca733493cba7baca670800e615ced77c7b22e663e2eed6f68c931b87/pylint-2.8.3-py3-none-any.whl (357kB)\n",
            "\u001b[K     |████████████████████████████████| 358kB 45.9MB/s \n",
            "\u001b[?25hCollecting websockets~=6.0\n",
            "\u001b[?25l  Downloading https://files.pythonhosted.org/packages/0c/6a/d048dfe820fc956e57bb1115f5eda5a1bef320172811f72c9924c8d6ebb5/websockets-6.0-cp37-cp37m-manylinux1_x86_64.whl (88kB)\n",
            "\u001b[K     |████████████████████████████████| 92kB 12.3MB/s \n",
            "\u001b[?25hCollecting websocket-client~=0.53.0\n",
            "\u001b[?25l  Downloading https://files.pythonhosted.org/packages/14/d4/6a8cd4e7f67da465108c7cc0a307a1c5da7e2cdf497330b682069b1d4758/websocket_client-0.53.0-py2.py3-none-any.whl (198kB)\n",
            "\u001b[K     |████████████████████████████████| 204kB 54.1MB/s \n",
            "\u001b[?25hCollecting python-cli-ui~=0.7.1\n",
            "  Downloading https://files.pythonhosted.org/packages/25/67/3babc30b45ea745831bb31d7251d82c7c4f3f920a773463863cfa75cb7bd/python_cli_ui-0.7.5-py3-none-any.whl\n",
            "Collecting python-rapidjson~=0.6.3\n",
            "\u001b[?25l  Downloading https://files.pythonhosted.org/packages/8a/e7/bbe749d8359a3f14f84e30fbed480e5cede71d8496386866a16b78fc1c06/python_rapidjson-0.6.3-cp37-cp37m-manylinux1_x86_64.whl (1.2MB)\n",
            "\u001b[K     |████████████████████████████████| 1.2MB 49.1MB/s \n",
            "\u001b[?25hCollecting Click==7.0\n",
            "\u001b[?25l  Downloading https://files.pythonhosted.org/packages/fa/37/45185cb5abbc30d7257104c434fe0b07e5a195a6847506c074527aa599ec/Click-7.0-py2.py3-none-any.whl (81kB)\n",
            "\u001b[K     |████████████████████████████████| 81kB 12.2MB/s \n",
            "\u001b[?25hCollecting docker-pycreds>=0.4.0\n",
            "  Downloading https://files.pythonhosted.org/packages/f5/e8/f6bd1eee09314e7e6dee49cbe2c5e22314ccdb38db16c9fc72d2fa80d054/docker_pycreds-0.4.0-py2.py3-none-any.whl\n",
            "Requirement already satisfied, skipping upgrade: six>=1.4.0 in /usr/local/lib/python3.7/dist-packages (from docker~=3.1->pommerman==0.2.0) (1.15.0)\n",
            "Requirement already satisfied, skipping upgrade: numpy>=1.10.4 in /usr/local/lib/python3.7/dist-packages (from gym~=0.10.5->pommerman==0.2.0) (1.19.5)\n",
            "Requirement already satisfied, skipping upgrade: pyglet>=1.2.0 in /usr/local/lib/python3.7/dist-packages (from gym~=0.10.5->pommerman==0.2.0) (1.5.0)\n",
            "Collecting ruamel.yaml.clib>=0.1.2; platform_python_implementation == \"CPython\" and python_version < \"3.10\"\n",
            "\u001b[?25l  Downloading https://files.pythonhosted.org/packages/5e/6e/f652c56bbb2c3d3fca252ffc7c0358597f57a1bbdf484dac683054950c63/ruamel.yaml.clib-0.2.2-cp37-cp37m-manylinux1_x86_64.whl (547kB)\n",
            "\u001b[K     |████████████████████████████████| 552kB 51.7MB/s \n",
            "\u001b[?25hCollecting Werkzeug<1.0,>=0.7\n",
            "\u001b[?25l  Downloading https://files.pythonhosted.org/packages/c2/e4/a859d2fe516f466642fa5c6054fd9646271f9da26b0cac0d2f37fc858c8f/Werkzeug-0.16.1-py2.py3-none-any.whl (327kB)\n",
            "\u001b[K     |████████████████████████████████| 327kB 42.1MB/s \n",
            "\u001b[?25hRequirement already satisfied, skipping upgrade: Jinja2>=2.4 in /usr/local/lib/python3.7/dist-packages (from Flask~=0.12->pommerman==0.2.0) (2.11.3)\n",
            "Requirement already satisfied, skipping upgrade: itsdangerous>=0.21 in /usr/local/lib/python3.7/dist-packages (from Flask~=0.12->pommerman==0.2.0) (1.1.0)\n",
            "Requirement already satisfied, skipping upgrade: urllib3!=1.25.0,!=1.25.1,<1.26,>=1.21.1 in /usr/local/lib/python3.7/dist-packages (from requests~=2.18->pommerman==0.2.0) (1.24.3)\n",
            "Requirement already satisfied, skipping upgrade: chardet<4,>=3.0.2 in /usr/local/lib/python3.7/dist-packages (from requests~=2.18->pommerman==0.2.0) (3.0.4)\n",
            "Requirement already satisfied, skipping upgrade: idna<3,>=2.5 in /usr/local/lib/python3.7/dist-packages (from requests~=2.18->pommerman==0.2.0) (2.10)\n",
            "Requirement already satisfied, skipping upgrade: certifi>=2017.4.17 in /usr/local/lib/python3.7/dist-packages (from requests~=2.18->pommerman==0.2.0) (2021.5.30)\n",
            "Requirement already satisfied, skipping upgrade: jsonschema<3.0.0 in /usr/local/lib/python3.7/dist-packages (from jsonmerge~=1.5.1->pommerman==0.2.0) (2.6.0)\n",
            "Collecting typed-ast<1.5,>=1.4.0; implementation_name == \"cpython\" and python_version < \"3.8\"\n",
            "\u001b[?25l  Downloading https://files.pythonhosted.org/packages/65/b3/573d2f1fecbbe8f82a8d08172e938c247f99abe1be3bef3da2efaa3810bf/typed_ast-1.4.3-cp37-cp37m-manylinux1_x86_64.whl (743kB)\n",
            "\u001b[K     |████████████████████████████████| 747kB 45.9MB/s \n",
            "\u001b[?25hRequirement already satisfied, skipping upgrade: wrapt<1.13,>=1.11 in /usr/local/lib/python3.7/dist-packages (from astroid>=2->pommerman==0.2.0) (1.12.1)\n",
            "Collecting lazy-object-proxy>=1.4.0\n",
            "\u001b[?25l  Downloading https://files.pythonhosted.org/packages/6e/b0/f055db25fd68ab4859832a887c8b304274fc12dd5a3f8e83e61250733aeb/lazy_object_proxy-1.6.0-cp37-cp37m-manylinux1_x86_64.whl (55kB)\n",
            "\u001b[K     |████████████████████████████████| 61kB 9.0MB/s \n",
            "\u001b[?25hRequirement already satisfied, skipping upgrade: typing-extensions>=3.7.4; python_version < \"3.8\" in /usr/local/lib/python3.7/dist-packages (from astroid>=2->pommerman==0.2.0) (3.7.4.3)\n",
            "Requirement already satisfied, skipping upgrade: toml>=0.7.1 in /usr/local/lib/python3.7/dist-packages (from pylint>=2->pommerman==0.2.0) (0.10.2)\n",
            "Collecting mccabe<0.7,>=0.6\n",
            "  Downloading https://files.pythonhosted.org/packages/87/89/479dc97e18549e21354893e4ee4ef36db1d237534982482c3681ee6e7b57/mccabe-0.6.1-py2.py3-none-any.whl\n",
            "Collecting colorama\n",
            "  Downloading https://files.pythonhosted.org/packages/44/98/5b86278fbbf250d239ae0ecb724f8572af1c91f4a11edf4d36a206189440/colorama-0.4.4-py2.py3-none-any.whl\n",
            "Collecting unidecode\n",
            "\u001b[?25l  Downloading https://files.pythonhosted.org/packages/9e/25/723487ca2a52ebcee88a34d7d1f5a4b80b793f179ee0f62d5371938dfa01/Unidecode-1.2.0-py2.py3-none-any.whl (241kB)\n",
            "\u001b[K     |████████████████████████████████| 245kB 59.6MB/s \n",
            "\u001b[?25hRequirement already satisfied, skipping upgrade: tabulate in /usr/local/lib/python3.7/dist-packages (from python-cli-ui~=0.7.1->pommerman==0.2.0) (0.8.9)\n",
            "Requirement already satisfied, skipping upgrade: future in /usr/local/lib/python3.7/dist-packages (from pyglet>=1.2.0->gym~=0.10.5->pommerman==0.2.0) (0.16.0)\n",
            "Requirement already satisfied, skipping upgrade: MarkupSafe>=0.23 in /usr/local/lib/python3.7/dist-packages (from Jinja2>=2.4->Flask~=0.12->pommerman==0.2.0) (2.0.1)\n",
            "Building wheels for collected packages: pommerman, gym, jsonmerge\n",
            "  Building wheel for pommerman (setup.py) ... \u001b[?25l\u001b[?25hdone\n",
            "  Created wheel for pommerman: filename=pommerman-0.2.0-cp37-none-any.whl size=1814480 sha256=eb18a7b0e1afc6e0fa60505b66adabdeaea9f1a441e5643949cc7fecfd3a5c56\n",
            "  Stored in directory: /tmp/pip-ephem-wheel-cache-bhdz9_i6/wheels/26/7c/f2/56ee3bc31a512c4cbda2eba1844999a0d68e4b2b8725385a41\n",
            "  Building wheel for gym (setup.py) ... \u001b[?25l\u001b[?25hdone\n",
            "  Created wheel for gym: filename=gym-0.10.11-cp37-none-any.whl size=1588312 sha256=974fbf34f7548f7b7e223c05c8294e3b0f9122c47441bf38a16fbd7c59016019\n",
            "  Stored in directory: /root/.cache/pip/wheels/7b/eb/1f/22c4124f3c64943aa0646daf4612b1c1f00f27d89b81304ebd\n",
            "  Building wheel for jsonmerge (setup.py) ... \u001b[?25l\u001b[?25hdone\n",
            "  Created wheel for jsonmerge: filename=jsonmerge-1.5.2-cp37-none-any.whl size=15661 sha256=f22700f3ef03b9f1e3f4c4c6646ec18e89e8c4f614fab19fbc3cd8bbf0dfea37\n",
            "  Stored in directory: /root/.cache/pip/wheels/e2/0c/b5/5291134be1720060b77eb2494d81b0fc543596622e670d9b4d\n",
            "Successfully built pommerman gym jsonmerge\n",
            "\u001b[31mERROR: bokeh 2.3.2 has requirement pillow>=7.1.0, but you'll have pillow 5.4.1 which is incompatible.\u001b[0m\n",
            "\u001b[31mERROR: albumentations 0.1.12 has requirement imgaug<0.2.7,>=0.2.5, but you'll have imgaug 0.2.9 which is incompatible.\u001b[0m\n",
            "\u001b[31mERROR: pylint 2.8.3 has requirement astroid==2.5.6, but you'll have astroid 2.5.8 which is incompatible.\u001b[0m\n",
            "Installing collected packages: websocket-client, docker-pycreds, docker, gym, Pillow, ruamel.yaml.clib, ruamel.yaml, Werkzeug, Click, Flask, jsonmerge, typed-ast, lazy-object-proxy, astroid, isort, mccabe, pylint, websockets, colorama, unidecode, python-cli-ui, python-rapidjson, pommerman\n",
            "  Found existing installation: gym 0.17.3\n",
            "    Uninstalling gym-0.17.3:\n",
            "      Successfully uninstalled gym-0.17.3\n",
            "  Found existing installation: Pillow 7.1.2\n",
            "    Uninstalling Pillow-7.1.2:\n",
            "      Successfully uninstalled Pillow-7.1.2\n",
            "  Found existing installation: Werkzeug 1.0.1\n",
            "    Uninstalling Werkzeug-1.0.1:\n",
            "      Successfully uninstalled Werkzeug-1.0.1\n",
            "  Found existing installation: click 7.1.2\n",
            "    Uninstalling click-7.1.2:\n",
            "      Successfully uninstalled click-7.1.2\n",
            "  Found existing installation: Flask 1.1.4\n",
            "    Uninstalling Flask-1.1.4:\n",
            "      Successfully uninstalled Flask-1.1.4\n",
            "Successfully installed Click-7.0 Flask-0.12.5 Pillow-5.4.1 Werkzeug-0.16.1 astroid-2.5.8 colorama-0.4.4 docker-3.7.3 docker-pycreds-0.4.0 gym-0.10.11 isort-4.3.21 jsonmerge-1.5.2 lazy-object-proxy-1.6.0 mccabe-0.6.1 pommerman-0.2.0 pylint-2.8.3 python-cli-ui-0.7.5 python-rapidjson-0.6.3 ruamel.yaml-0.17.9 ruamel.yaml.clib-0.2.2 typed-ast-1.4.3 unidecode-1.2.0 websocket-client-0.53.0 websockets-6.0\n"
          ],
          "name": "stdout"
        },
        {
          "output_type": "display_data",
          "data": {
            "application/vnd.colab-display-data+json": {
              "pip_warning": {
                "packages": [
                  "PIL"
                ]
              }
            }
          },
          "metadata": {
            "tags": []
          }
        }
      ]
    },
    {
      "cell_type": "code",
      "metadata": {
        "colab": {
          "base_uri": "https://localhost:8080/"
        },
        "id": "tHAwdRnkScbz",
        "outputId": "02b387e4-c990-4bfe-db3d-37c254b2aaa9"
      },
      "source": [
        "!pip install onnx\n",
        "!pip install onnx2pytorch\n",
        "import onnx\n",
        "from onnx2pytorch import ConvertModel\n",
        "import random"
      ],
      "execution_count": 2,
      "outputs": [
        {
          "output_type": "stream",
          "text": [
            "Collecting onnx\n",
            "\u001b[?25l  Downloading https://files.pythonhosted.org/packages/3f/9b/54c950d3256e27f970a83cd0504efb183a24312702deed0179453316dbd0/onnx-1.9.0-cp37-cp37m-manylinux2010_x86_64.whl (12.2MB)\n",
            "\u001b[K     |████████████████████████████████| 12.2MB 11.0MB/s \n",
            "\u001b[?25hRequirement already satisfied: six in /usr/local/lib/python3.7/dist-packages (from onnx) (1.15.0)\n",
            "Requirement already satisfied: protobuf in /usr/local/lib/python3.7/dist-packages (from onnx) (3.12.4)\n",
            "Requirement already satisfied: typing-extensions>=3.6.2.1 in /usr/local/lib/python3.7/dist-packages (from onnx) (3.7.4.3)\n",
            "Requirement already satisfied: numpy>=1.16.6 in /usr/local/lib/python3.7/dist-packages (from onnx) (1.19.5)\n",
            "Requirement already satisfied: setuptools in /usr/local/lib/python3.7/dist-packages (from protobuf->onnx) (57.0.0)\n",
            "Installing collected packages: onnx\n",
            "Successfully installed onnx-1.9.0\n",
            "Collecting onnx2pytorch\n",
            "  Downloading https://files.pythonhosted.org/packages/9e/aa/47c89dd98eb9879600df9f252a4a4ad3cdf89266b4b9ae4bfe77298fa465/onnx2pytorch-0.3.0-py3-none-any.whl\n",
            "Requirement already satisfied: torch>=1.4.0 in /usr/local/lib/python3.7/dist-packages (from onnx2pytorch) (1.8.1+cu111)\n",
            "Requirement already satisfied: onnx>=1.6.0 in /usr/local/lib/python3.7/dist-packages (from onnx2pytorch) (1.9.0)\n",
            "Requirement already satisfied: typing-extensions in /usr/local/lib/python3.7/dist-packages (from torch>=1.4.0->onnx2pytorch) (3.7.4.3)\n",
            "Requirement already satisfied: numpy in /usr/local/lib/python3.7/dist-packages (from torch>=1.4.0->onnx2pytorch) (1.19.5)\n",
            "Requirement already satisfied: protobuf in /usr/local/lib/python3.7/dist-packages (from onnx>=1.6.0->onnx2pytorch) (3.12.4)\n",
            "Requirement already satisfied: six in /usr/local/lib/python3.7/dist-packages (from onnx>=1.6.0->onnx2pytorch) (1.15.0)\n",
            "Requirement already satisfied: setuptools in /usr/local/lib/python3.7/dist-packages (from protobuf->onnx>=1.6.0->onnx2pytorch) (57.0.0)\n",
            "Installing collected packages: onnx2pytorch\n",
            "Successfully installed onnx2pytorch-0.3.0\n"
          ],
          "name": "stdout"
        }
      ]
    },
    {
      "cell_type": "code",
      "metadata": {
        "colab": {
          "base_uri": "https://localhost:8080/"
        },
        "id": "1ZS18fWBv-8n",
        "outputId": "82c95488-8778-49de-c562-ed865f558844"
      },
      "source": [
        "!git clone https://github.com/RLCommunity/graphic_pomme_env ./graphic_pomme_env\n",
        "!pip install -U ./graphic_pomme_env\n",
        "!rm -rf ./graphic_pomme_env"
      ],
      "execution_count": 3,
      "outputs": [
        {
          "output_type": "stream",
          "text": [
            "Cloning into './graphic_pomme_env'...\n",
            "remote: Enumerating objects: 15, done.\u001b[K\n",
            "remote: Counting objects: 100% (15/15), done.\u001b[K\n",
            "remote: Compressing objects: 100% (14/14), done.\u001b[K\n",
            "remote: Total 15 (delta 2), reused 14 (delta 1), pack-reused 0\u001b[K\n",
            "Unpacking objects: 100% (15/15), done.\n",
            "Processing ./graphic_pomme_env\n",
            "Requirement already satisfied, skipping upgrade: pommerman in /usr/local/lib/python3.7/dist-packages (from graphic-pomme-env==0.1.0) (0.2.0)\n",
            "Requirement already satisfied, skipping upgrade: scipy~=1.0 in /usr/local/lib/python3.7/dist-packages (from pommerman->graphic-pomme-env==0.1.0) (1.4.1)\n",
            "Requirement already satisfied, skipping upgrade: ruamel.yaml~=0.15 in /usr/local/lib/python3.7/dist-packages (from pommerman->graphic-pomme-env==0.1.0) (0.17.9)\n",
            "Requirement already satisfied, skipping upgrade: Pillow~=5.0 in /usr/local/lib/python3.7/dist-packages (from pommerman->graphic-pomme-env==0.1.0) (5.4.1)\n",
            "Requirement already satisfied, skipping upgrade: python-cli-ui~=0.7.1 in /usr/local/lib/python3.7/dist-packages (from pommerman->graphic-pomme-env==0.1.0) (0.7.5)\n",
            "Requirement already satisfied, skipping upgrade: pylint>=2 in /usr/local/lib/python3.7/dist-packages (from pommerman->graphic-pomme-env==0.1.0) (2.8.3)\n",
            "Requirement already satisfied, skipping upgrade: docker~=3.1 in /usr/local/lib/python3.7/dist-packages (from pommerman->graphic-pomme-env==0.1.0) (3.7.3)\n",
            "Requirement already satisfied, skipping upgrade: gym~=0.10.5 in /usr/local/lib/python3.7/dist-packages (from pommerman->graphic-pomme-env==0.1.0) (0.10.11)\n",
            "Requirement already satisfied, skipping upgrade: jsonmerge~=1.5.1 in /usr/local/lib/python3.7/dist-packages (from pommerman->graphic-pomme-env==0.1.0) (1.5.2)\n",
            "Requirement already satisfied, skipping upgrade: astroid>=2 in /usr/local/lib/python3.7/dist-packages (from pommerman->graphic-pomme-env==0.1.0) (2.5.8)\n",
            "Requirement already satisfied, skipping upgrade: python-rapidjson~=0.6.3 in /usr/local/lib/python3.7/dist-packages (from pommerman->graphic-pomme-env==0.1.0) (0.6.3)\n",
            "Requirement already satisfied, skipping upgrade: Click==7.0 in /usr/local/lib/python3.7/dist-packages (from pommerman->graphic-pomme-env==0.1.0) (7.0)\n",
            "Requirement already satisfied, skipping upgrade: isort~=4.3.4 in /usr/local/lib/python3.7/dist-packages (from pommerman->graphic-pomme-env==0.1.0) (4.3.21)\n",
            "Requirement already satisfied, skipping upgrade: websocket-client~=0.53.0 in /usr/local/lib/python3.7/dist-packages (from pommerman->graphic-pomme-env==0.1.0) (0.53.0)\n",
            "Requirement already satisfied, skipping upgrade: Flask~=0.12 in /usr/local/lib/python3.7/dist-packages (from pommerman->graphic-pomme-env==0.1.0) (0.12.5)\n",
            "Requirement already satisfied, skipping upgrade: requests~=2.18 in /usr/local/lib/python3.7/dist-packages (from pommerman->graphic-pomme-env==0.1.0) (2.23.0)\n",
            "Requirement already satisfied, skipping upgrade: websockets~=6.0 in /usr/local/lib/python3.7/dist-packages (from pommerman->graphic-pomme-env==0.1.0) (6.0)\n",
            "Requirement already satisfied, skipping upgrade: numpy>=1.13.3 in /usr/local/lib/python3.7/dist-packages (from scipy~=1.0->pommerman->graphic-pomme-env==0.1.0) (1.19.5)\n",
            "Requirement already satisfied, skipping upgrade: ruamel.yaml.clib>=0.1.2; platform_python_implementation == \"CPython\" and python_version < \"3.10\" in /usr/local/lib/python3.7/dist-packages (from ruamel.yaml~=0.15->pommerman->graphic-pomme-env==0.1.0) (0.2.2)\n",
            "Requirement already satisfied, skipping upgrade: tabulate in /usr/local/lib/python3.7/dist-packages (from python-cli-ui~=0.7.1->pommerman->graphic-pomme-env==0.1.0) (0.8.9)\n",
            "Requirement already satisfied, skipping upgrade: unidecode in /usr/local/lib/python3.7/dist-packages (from python-cli-ui~=0.7.1->pommerman->graphic-pomme-env==0.1.0) (1.2.0)\n",
            "Requirement already satisfied, skipping upgrade: colorama in /usr/local/lib/python3.7/dist-packages (from python-cli-ui~=0.7.1->pommerman->graphic-pomme-env==0.1.0) (0.4.4)\n",
            "Requirement already satisfied, skipping upgrade: toml>=0.7.1 in /usr/local/lib/python3.7/dist-packages (from pylint>=2->pommerman->graphic-pomme-env==0.1.0) (0.10.2)\n",
            "Requirement already satisfied, skipping upgrade: mccabe<0.7,>=0.6 in /usr/local/lib/python3.7/dist-packages (from pylint>=2->pommerman->graphic-pomme-env==0.1.0) (0.6.1)\n",
            "Requirement already satisfied, skipping upgrade: six>=1.4.0 in /usr/local/lib/python3.7/dist-packages (from docker~=3.1->pommerman->graphic-pomme-env==0.1.0) (1.15.0)\n",
            "Requirement already satisfied, skipping upgrade: docker-pycreds>=0.4.0 in /usr/local/lib/python3.7/dist-packages (from docker~=3.1->pommerman->graphic-pomme-env==0.1.0) (0.4.0)\n",
            "Requirement already satisfied, skipping upgrade: pyglet>=1.2.0 in /usr/local/lib/python3.7/dist-packages (from gym~=0.10.5->pommerman->graphic-pomme-env==0.1.0) (1.5.0)\n",
            "Requirement already satisfied, skipping upgrade: jsonschema<3.0.0 in /usr/local/lib/python3.7/dist-packages (from jsonmerge~=1.5.1->pommerman->graphic-pomme-env==0.1.0) (2.6.0)\n",
            "Requirement already satisfied, skipping upgrade: lazy-object-proxy>=1.4.0 in /usr/local/lib/python3.7/dist-packages (from astroid>=2->pommerman->graphic-pomme-env==0.1.0) (1.6.0)\n",
            "Requirement already satisfied, skipping upgrade: wrapt<1.13,>=1.11 in /usr/local/lib/python3.7/dist-packages (from astroid>=2->pommerman->graphic-pomme-env==0.1.0) (1.12.1)\n",
            "Requirement already satisfied, skipping upgrade: typing-extensions>=3.7.4; python_version < \"3.8\" in /usr/local/lib/python3.7/dist-packages (from astroid>=2->pommerman->graphic-pomme-env==0.1.0) (3.7.4.3)\n",
            "Requirement already satisfied, skipping upgrade: typed-ast<1.5,>=1.4.0; implementation_name == \"cpython\" and python_version < \"3.8\" in /usr/local/lib/python3.7/dist-packages (from astroid>=2->pommerman->graphic-pomme-env==0.1.0) (1.4.3)\n",
            "Requirement already satisfied, skipping upgrade: itsdangerous>=0.21 in /usr/local/lib/python3.7/dist-packages (from Flask~=0.12->pommerman->graphic-pomme-env==0.1.0) (1.1.0)\n",
            "Requirement already satisfied, skipping upgrade: Werkzeug<1.0,>=0.7 in /usr/local/lib/python3.7/dist-packages (from Flask~=0.12->pommerman->graphic-pomme-env==0.1.0) (0.16.1)\n",
            "Requirement already satisfied, skipping upgrade: Jinja2>=2.4 in /usr/local/lib/python3.7/dist-packages (from Flask~=0.12->pommerman->graphic-pomme-env==0.1.0) (2.11.3)\n",
            "Requirement already satisfied, skipping upgrade: urllib3!=1.25.0,!=1.25.1,<1.26,>=1.21.1 in /usr/local/lib/python3.7/dist-packages (from requests~=2.18->pommerman->graphic-pomme-env==0.1.0) (1.24.3)\n",
            "Requirement already satisfied, skipping upgrade: chardet<4,>=3.0.2 in /usr/local/lib/python3.7/dist-packages (from requests~=2.18->pommerman->graphic-pomme-env==0.1.0) (3.0.4)\n",
            "Requirement already satisfied, skipping upgrade: idna<3,>=2.5 in /usr/local/lib/python3.7/dist-packages (from requests~=2.18->pommerman->graphic-pomme-env==0.1.0) (2.10)\n",
            "Requirement already satisfied, skipping upgrade: certifi>=2017.4.17 in /usr/local/lib/python3.7/dist-packages (from requests~=2.18->pommerman->graphic-pomme-env==0.1.0) (2021.5.30)\n",
            "Requirement already satisfied, skipping upgrade: future in /usr/local/lib/python3.7/dist-packages (from pyglet>=1.2.0->gym~=0.10.5->pommerman->graphic-pomme-env==0.1.0) (0.16.0)\n",
            "Requirement already satisfied, skipping upgrade: MarkupSafe>=0.23 in /usr/local/lib/python3.7/dist-packages (from Jinja2>=2.4->Flask~=0.12->pommerman->graphic-pomme-env==0.1.0) (2.0.1)\n",
            "Building wheels for collected packages: graphic-pomme-env\n",
            "  Building wheel for graphic-pomme-env (setup.py) ... \u001b[?25l\u001b[?25hdone\n",
            "  Created wheel for graphic-pomme-env: filename=graphic_pomme_env-0.1.0-cp37-none-any.whl size=8057 sha256=c42119e7731c9c894d7a9ffb5444d03d051568bc4d3849cc9f0b69bf2621d721\n",
            "  Stored in directory: /tmp/pip-ephem-wheel-cache-k9f8ae93/wheels/eb/6e/62/9a49cdf37b0a50b0ab19e5a10e86acdd7d2c6069cb505148df\n",
            "Successfully built graphic-pomme-env\n",
            "Installing collected packages: graphic-pomme-env\n",
            "Successfully installed graphic-pomme-env-0.1.0\n"
          ],
          "name": "stdout"
        }
      ]
    },
    {
      "cell_type": "code",
      "metadata": {
        "colab": {
          "base_uri": "https://localhost:8080/",
          "height": 720
        },
        "id": "MbYYtVaXwFls",
        "outputId": "3f59098a-0ee6-4ce1-dc1e-6fc6d7562699"
      },
      "source": [
        "import os\n",
        "import numpy as np\n",
        "import torch\n",
        "import torch.nn as nn\n",
        "import torch.optim as optim\n",
        "from time import strftime\n",
        "from collections import deque, namedtuple\n",
        "from PIL import Image\n",
        "import cv2\n",
        "import IPython.display\n",
        "from functools import partial\n",
        "from itertools import chain\n",
        "import random\n",
        "\n",
        "import gym\n",
        "from gym import Env, Wrapper\n",
        "\n",
        "from pommerman import make\n",
        "from pommerman.agents import BaseAgent, RandomAgent, SimpleAgent\n",
        "from graphic_pomme_env import graphic_pomme_env\n",
        "from graphic_pomme_env.wrappers import PommerEnvWrapperFrameSkip2\n",
        "\n",
        "print('''Hint: just ignore the error \"Import error NSDE! You will not be able to render --> Cannot connect to 'None'\"''')\n",
        "pomenvs = [es.id for es in gym.envs.registry.all() if es.id.startswith('Pomme')]\n",
        "print(\"\\n\".join(pomenvs))\n",
        "res = graphic_pomme_env.load_resources()"
      ],
      "execution_count": 4,
      "outputs": [
        {
          "output_type": "stream",
          "text": [
            "Import error NSDE! You will not be able to render --> Cannot connect to \"None\"\n",
            "['', '/content', '/env/python', '/usr/lib/python37.zip', '/usr/lib/python3.7', '/usr/lib/python3.7/lib-dynload', '/usr/local/lib/python3.7/dist-packages', '/usr/lib/python3/dist-packages', '/usr/local/lib/python3.7/dist-packages/IPython/extensions', '/root/.ipython']\n",
            "/usr/local/lib/python3.7/dist-packages\n",
            "['/usr/local/lib/python3.7/dist-packages', '', '/content', '/env/python', '/usr/lib/python37.zip', '/usr/lib/python3.7', '/usr/lib/python3.7/lib-dynload', '/usr/local/lib/python3.7/dist-packages', '/usr/lib/python3/dist-packages', '/usr/local/lib/python3.7/dist-packages/IPython/extensions', '/root/.ipython']\n",
            "GraphicPommeFFAFast-v0 env is registered.\n",
            "GraphicOneVsOne-v0 env is registered.\n",
            "GraphicOVOCompact-v0 env is registered.\n",
            "GraphicOVONano-v0 env is registered.\n",
            "Hint: just ignore the error \"Import error NSDE! You will not be able to render --> Cannot connect to 'None'\"\n",
            "PommeFFACompetition-v0\n",
            "PommeFFACompetitionFast-v0\n",
            "PommeFFAFast-v0\n",
            "PommeFFA-v1\n",
            "PommeRadioCompetition-v2\n",
            "PommeRadio-v2\n",
            "PommeTeamCompetition-v0\n",
            "PommeTeamCompetitionFast-v0\n",
            "PommeTeamCompetition-v1\n",
            "PommeTeam-v0\n",
            "PommeTeamFast-v0\n"
          ],
          "name": "stdout"
        },
        {
          "output_type": "error",
          "ename": "UnidentifiedImageError",
          "evalue": "ignored",
          "traceback": [
            "\u001b[0;31m---------------------------------------------------------------------------\u001b[0m",
            "\u001b[0;31mUnidentifiedImageError\u001b[0m                    Traceback (most recent call last)",
            "\u001b[0;32m<ipython-input-4-52e541c91e16>\u001b[0m in \u001b[0;36m<module>\u001b[0;34m()\u001b[0m\n\u001b[1;32m     24\u001b[0m \u001b[0mpomenvs\u001b[0m \u001b[0;34m=\u001b[0m \u001b[0;34m[\u001b[0m\u001b[0mes\u001b[0m\u001b[0;34m.\u001b[0m\u001b[0mid\u001b[0m \u001b[0;32mfor\u001b[0m \u001b[0mes\u001b[0m \u001b[0;32min\u001b[0m \u001b[0mgym\u001b[0m\u001b[0;34m.\u001b[0m\u001b[0menvs\u001b[0m\u001b[0;34m.\u001b[0m\u001b[0mregistry\u001b[0m\u001b[0;34m.\u001b[0m\u001b[0mall\u001b[0m\u001b[0;34m(\u001b[0m\u001b[0;34m)\u001b[0m \u001b[0;32mif\u001b[0m \u001b[0mes\u001b[0m\u001b[0;34m.\u001b[0m\u001b[0mid\u001b[0m\u001b[0;34m.\u001b[0m\u001b[0mstartswith\u001b[0m\u001b[0;34m(\u001b[0m\u001b[0;34m'Pomme'\u001b[0m\u001b[0;34m)\u001b[0m\u001b[0;34m]\u001b[0m\u001b[0;34m\u001b[0m\u001b[0;34m\u001b[0m\u001b[0m\n\u001b[1;32m     25\u001b[0m \u001b[0mprint\u001b[0m\u001b[0;34m(\u001b[0m\u001b[0;34m\"\\n\"\u001b[0m\u001b[0;34m.\u001b[0m\u001b[0mjoin\u001b[0m\u001b[0;34m(\u001b[0m\u001b[0mpomenvs\u001b[0m\u001b[0;34m)\u001b[0m\u001b[0;34m)\u001b[0m\u001b[0;34m\u001b[0m\u001b[0;34m\u001b[0m\u001b[0m\n\u001b[0;32m---> 26\u001b[0;31m \u001b[0mres\u001b[0m \u001b[0;34m=\u001b[0m \u001b[0mgraphic_pomme_env\u001b[0m\u001b[0;34m.\u001b[0m\u001b[0mload_resources\u001b[0m\u001b[0;34m(\u001b[0m\u001b[0;34m)\u001b[0m\u001b[0;34m\u001b[0m\u001b[0;34m\u001b[0m\u001b[0m\n\u001b[0m",
            "\u001b[0;32m/usr/local/lib/python3.7/dist-packages/graphic_pomme_env/graphic_pomme_env.py\u001b[0m in \u001b[0;36mload_resources\u001b[0;34m(sprite_size)\u001b[0m\n\u001b[1;32m    185\u001b[0m     \u001b[0mresource_array\u001b[0m \u001b[0;34m=\u001b[0m \u001b[0mnp\u001b[0m\u001b[0;34m.\u001b[0m\u001b[0mzeros\u001b[0m\u001b[0;34m(\u001b[0m\u001b[0;34m(\u001b[0m\u001b[0mlen\u001b[0m\u001b[0;34m(\u001b[0m\u001b[0mconstants\u001b[0m\u001b[0;34m.\u001b[0m\u001b[0mFILE_NAMES\u001b[0m \u001b[0;34m+\u001b[0m \u001b[0mconstants\u001b[0m\u001b[0;34m.\u001b[0m\u001b[0mBOMB_FILE_NAMES\u001b[0m\u001b[0;34m)\u001b[0m\u001b[0;34m+\u001b[0m\u001b[0;36m1\u001b[0m\u001b[0;34m,\u001b[0m \u001b[0msprite_size\u001b[0m\u001b[0;34m,\u001b[0m \u001b[0msprite_size\u001b[0m\u001b[0;34m,\u001b[0m \u001b[0;36m3\u001b[0m\u001b[0;34m)\u001b[0m\u001b[0;34m,\u001b[0m \u001b[0mdtype\u001b[0m\u001b[0;34m=\u001b[0m\u001b[0mnp\u001b[0m\u001b[0;34m.\u001b[0m\u001b[0muint8\u001b[0m\u001b[0;34m)\u001b[0m\u001b[0;34m\u001b[0m\u001b[0;34m\u001b[0m\u001b[0m\n\u001b[1;32m    186\u001b[0m     \u001b[0;32mfor\u001b[0m \u001b[0mi\u001b[0m\u001b[0;34m,\u001b[0m \u001b[0mname\u001b[0m \u001b[0;32min\u001b[0m \u001b[0menumerate\u001b[0m\u001b[0;34m(\u001b[0m\u001b[0mconstants\u001b[0m\u001b[0;34m.\u001b[0m\u001b[0mFILE_NAMES\u001b[0m\u001b[0;34m+\u001b[0m\u001b[0mconstants\u001b[0m\u001b[0;34m.\u001b[0m\u001b[0mBOMB_FILE_NAMES\u001b[0m\u001b[0;34m)\u001b[0m\u001b[0;34m:\u001b[0m\u001b[0;34m\u001b[0m\u001b[0;34m\u001b[0m\u001b[0m\n\u001b[0;32m--> 187\u001b[0;31m         \u001b[0msprite_img\u001b[0m \u001b[0;34m=\u001b[0m \u001b[0mImage\u001b[0m\u001b[0;34m.\u001b[0m\u001b[0mopen\u001b[0m\u001b[0;34m(\u001b[0m\u001b[0mos\u001b[0m\u001b[0;34m.\u001b[0m\u001b[0mpath\u001b[0m\u001b[0;34m.\u001b[0m\u001b[0mjoin\u001b[0m\u001b[0;34m(\u001b[0m\u001b[0mRESOURCE_PATH\u001b[0m\u001b[0;34m,\u001b[0m \u001b[0mname\u001b[0m\u001b[0;34m+\u001b[0m\u001b[0;34m'.png'\u001b[0m\u001b[0;34m)\u001b[0m\u001b[0;34m)\u001b[0m\u001b[0;34m.\u001b[0m\u001b[0mresize\u001b[0m\u001b[0;34m(\u001b[0m\u001b[0;34m(\u001b[0m\u001b[0msprite_size\u001b[0m\u001b[0;34m,\u001b[0m \u001b[0msprite_size\u001b[0m\u001b[0;34m)\u001b[0m\u001b[0;34m,\u001b[0m \u001b[0mresample\u001b[0m\u001b[0;34m=\u001b[0m\u001b[0mPIL\u001b[0m\u001b[0;34m.\u001b[0m\u001b[0mImage\u001b[0m\u001b[0;34m.\u001b[0m\u001b[0mNEAREST\u001b[0m\u001b[0;34m)\u001b[0m\u001b[0;34m.\u001b[0m\u001b[0mconvert\u001b[0m\u001b[0;34m(\u001b[0m\u001b[0;34m'RGB'\u001b[0m\u001b[0;34m)\u001b[0m\u001b[0;34m\u001b[0m\u001b[0;34m\u001b[0m\u001b[0m\n\u001b[0m\u001b[1;32m    188\u001b[0m         \u001b[0msprite_n\u001b[0m \u001b[0;34m=\u001b[0m \u001b[0mnp\u001b[0m\u001b[0;34m.\u001b[0m\u001b[0marray\u001b[0m\u001b[0;34m(\u001b[0m\u001b[0msprite_img\u001b[0m\u001b[0;34m)\u001b[0m\u001b[0;34m\u001b[0m\u001b[0;34m\u001b[0m\u001b[0m\n\u001b[1;32m    189\u001b[0m         \u001b[0mresource_array\u001b[0m\u001b[0;34m[\u001b[0m\u001b[0mi\u001b[0m\u001b[0;34m,\u001b[0m \u001b[0;34m:\u001b[0m\u001b[0;34m,\u001b[0m \u001b[0;34m:\u001b[0m\u001b[0;34m,\u001b[0m \u001b[0;34m:\u001b[0m\u001b[0;34m]\u001b[0m \u001b[0;34m=\u001b[0m \u001b[0msprite_n\u001b[0m\u001b[0;34m\u001b[0m\u001b[0;34m\u001b[0m\u001b[0m\n",
            "\u001b[0;32m/usr/local/lib/python3.7/dist-packages/PIL/Image.py\u001b[0m in \u001b[0;36mopen\u001b[0;34m(fp, mode)\u001b[0m\n\u001b[1;32m   2894\u001b[0m                     \u001b[0mImageFile\u001b[0m\u001b[0;34m.\u001b[0m\u001b[0mPyEncoder\u001b[0m \u001b[0mobject\u001b[0m\u001b[0;34m\u001b[0m\u001b[0;34m\u001b[0m\u001b[0m\n\u001b[1;32m   2895\u001b[0m \u001b[0;34m\u001b[0m\u001b[0m\n\u001b[0;32m-> 2896\u001b[0;31m     \u001b[0;34m.\u001b[0m\u001b[0;34m.\u001b[0m \u001b[0mversionadded\u001b[0m\u001b[0;34m:\u001b[0m\u001b[0;34m:\u001b[0m \u001b[0;36m4.1\u001b[0m\u001b[0;36m.0\u001b[0m\u001b[0;34m\u001b[0m\u001b[0;34m\u001b[0m\u001b[0m\n\u001b[0m\u001b[1;32m   2897\u001b[0m     \"\"\"\n\u001b[1;32m   2898\u001b[0m     \u001b[0mENCODERS\u001b[0m\u001b[0;34m[\u001b[0m\u001b[0mname\u001b[0m\u001b[0;34m]\u001b[0m \u001b[0;34m=\u001b[0m \u001b[0mencoder\u001b[0m\u001b[0;34m\u001b[0m\u001b[0;34m\u001b[0m\u001b[0m\n",
            "\u001b[0;31mUnidentifiedImageError\u001b[0m: cannot identify image file '/usr/local/lib/python3.7/dist-packages/pommerman/resources/Passage.png'"
          ]
        }
      ]
    },
    {
      "cell_type": "code",
      "metadata": {
        "id": "kiSYxpILuH5b"
      },
      "source": [
        "from google.colab import drive\n",
        "drive.mount('/content/drive')\n",
        "path = '/content/drive/MyDrive/drl_final_challenge/'"
      ],
      "execution_count": null,
      "outputs": []
    },
    {
      "cell_type": "code",
      "metadata": {
        "id": "qJyGPhRfQWrV"
      },
      "source": [
        "USE_CUDA = torch.cuda.is_available()\n",
        "Transition = namedtuple(\"Transition\", [\"state\", \"action\", \"reward\", \"next_state\", \"done\"])\n",
        "device = 'cuda'\n",
        "print(USE_CUDA)"
      ],
      "execution_count": null,
      "outputs": []
    },
    {
      "cell_type": "code",
      "metadata": {
        "id": "m5GAmmK_DWyj"
      },
      "source": [
        "NUM_ACTIONS = 6"
      ],
      "execution_count": null,
      "outputs": []
    },
    {
      "cell_type": "markdown",
      "metadata": {
        "id": "RcsGkeWeA_pR"
      },
      "source": [
        "# Replay Buffer"
      ]
    },
    {
      "cell_type": "code",
      "metadata": {
        "id": "2VKrwoIpWSJD"
      },
      "source": [
        "class ReplayBuffer():\n",
        "  def __init__(self, num_actions, memory_len = 10000):\n",
        "      self.memory_len = memory_len\n",
        "      self.transition = []\n",
        "      self.num_actions = num_actions\n",
        "\n",
        "  def add(self, state, action, reward, next_state, done):\n",
        "      if self.length() > self.memory_len:\n",
        "        self.remove()\n",
        "      self.transition.append(Transition(state, action, reward, next_state, done))\n",
        "\n",
        "  def sample_batch(self, batch_size = 32):\n",
        "      minibatch = random.sample(self.transition, batch_size)\n",
        "\n",
        "      states_mb, a_, reward_mb, next_states_mb, done_mb = map(np.array, zip(*minibatch))\n",
        "\n",
        "      mb_reward = torch.from_numpy(reward_mb).to(device)\n",
        "      mb_done = torch.from_numpy(done_mb.astype(int)).to(device)\n",
        "\n",
        "      a_mb = np.zeros((a_.size, self.num_actions))\n",
        "      a_mb[np.arange(a_.size), a_] = 1\n",
        "      mb_a = torch.from_numpy(a_mb).to(device)\n",
        "\n",
        "      return states_mb, mb_a, mb_reward, next_states_mb, mb_done\n",
        "\n",
        "  def length(self):\n",
        "      return len(self.transition)\n",
        "\n",
        "  def remove(self):\n",
        "      self.transition.pop(0)"
      ],
      "execution_count": null,
      "outputs": []
    },
    {
      "cell_type": "markdown",
      "metadata": {
        "id": "ATI308hmBJpo"
      },
      "source": [
        "# Agent and Opponents"
      ]
    },
    {
      "cell_type": "code",
      "metadata": {
        "id": "g0vAAN8opzeg"
      },
      "source": [
        "# Code Block: (b)\n",
        "class DQNNetwork_atari(nn.Module):\n",
        "\n",
        "    def __init__(self, num_actions = 6):\n",
        "        super().__init__()\n",
        "        # Define your architecture\n",
        "\n",
        "        self.num_actions = num_actions\n",
        "        # Network Architecture\n",
        "        self.features = nn.Sequential(\n",
        "            nn.Conv2d(5, 32, kernel_size=8, stride=4), nn.ReLU(),\n",
        "            nn.Conv2d(32, 64, kernel_size=4, stride=2), nn.ReLU(),\n",
        "            nn.Conv2d(64, 64, kernel_size=3, stride=1), nn.ReLU()\n",
        "          )\n",
        "          \n",
        "        self.fc = nn.Sequential(\n",
        "            nn.Linear(384, 128), nn.ReLU(),\n",
        "            nn.Linear(128, num_actions)\n",
        "          )\n",
        "\n",
        "    def forward(self, x):\n",
        "      # output forward should always be q values for all actions\n",
        "        if len(x.size()) == 3:\n",
        "          x = x.unsqueeze(dim=0)\n",
        "        x = self.features(x)\n",
        "        x = x.view(x.size(0), -1)\n",
        "        x = self.fc(x)\n",
        "\n",
        "        return x"
      ],
      "execution_count": null,
      "outputs": []
    },
    {
      "cell_type": "code",
      "metadata": {
        "id": "wKOo4c9oYUxS"
      },
      "source": [
        "# Update Target network\n",
        "# Code Block: (h)\n",
        "def soft_update(local_model, target_model, tau):\n",
        "    \"\"\"Soft update model parameters.\n",
        "    θ_target = τ*θ_local + (1 - τ)*θ_target\n",
        "    \"\"\"\n",
        "    for target_param, local_param in zip(target_model.parameters(), local_model.parameters()):\n",
        "      target_param.data.copy_(tau*local_param.data + (1.0-tau)*target_param.data)"
      ],
      "execution_count": null,
      "outputs": []
    },
    {
      "cell_type": "markdown",
      "metadata": {
        "id": "KOo1fs3Juytc"
      },
      "source": [
        "#### Some useful opponent actor functions"
      ]
    },
    {
      "cell_type": "code",
      "metadata": {
        "id": "31Wpqzbwuv-j"
      },
      "source": [
        "def idle_actor(frame_stack):\n",
        "    del frame_stack\n",
        "    return 0\n",
        "  \n",
        "def random_actor(frame_stack):\n",
        "    del frame_stack\n",
        "    return np.random.randint(NUM_ACTIONS)\n",
        "\n",
        "def no_bomb_random_actor(frame_stack):\n",
        "    del frame_stack\n",
        "    return np.random.randint(NUM_ACTIONS-1)\n",
        "  "
      ],
      "execution_count": null,
      "outputs": []
    },
    {
      "cell_type": "markdown",
      "metadata": {
        "id": "h2AJkOY-BVIN"
      },
      "source": [
        "#### Load Agent and Opponents"
      ]
    },
    {
      "cell_type": "code",
      "metadata": {
        "colab": {
          "base_uri": "https://localhost:8080/"
        },
        "id": "xQrfHAtUWWyv",
        "outputId": "d7aac7c1-4b6b-41b4-a377-6cffd981e063"
      },
      "source": [
        "net1 = ConvertModel(onnx.load(\"model.onnx\"), experimental=True)             # score 0.68\n",
        "net2 = ConvertModel(onnx.load(\"submission_onnx.onnx\"), experimental=True)   # score 0.10\n",
        "net3 = ConvertModel(onnx.load(\"submission_final.onnx\"), experimental=True)  # score 0.02\n",
        "net4 = ConvertModel(onnx.load(\"submission_other.onnx\"), experimental=True)  # score 0.56\n",
        "net5 = ConvertModel(onnx.load(\"submission_first.onnx\"), experimental=True)  # score 0.62\n",
        "\n",
        "\n",
        "num_actions = 6\n",
        "#Function from first script to define agent from net\n",
        "def model_actor(frame_stack, model):\n",
        "    obs = torch.from_numpy(np.array(frame_stack.get_observation())).to(device)\n",
        "    net_out = model(obs).detach().cpu().numpy()\n",
        "    action = np.argmax(net_out)\n",
        "    return action"
      ],
      "execution_count": null,
      "outputs": [
        {
          "output_type": "stream",
          "text": [
            "/usr/local/lib/python3.7/dist-packages/onnx2pytorch/convert/layer.py:25: UserWarning: The given NumPy array is not writeable, and PyTorch does not support non-writeable tensors. This means you can write to the underlying (supposedly non-writeable) NumPy array using the tensor. You may want to copy the array to protect its data or make it writeable before converting it to a tensor. This type of warning will be suppressed for the rest of this program. (Triggered internally at  /pytorch/torch/csrc/utils/tensor_numpy.cpp:143.)\n",
            "  layer.weight.data = torch.from_numpy(numpy_helper.to_array(weight))\n",
            "/usr/local/lib/python3.7/dist-packages/onnx2pytorch/convert/model.py:75: UserWarning: Using experimental implementation that allows 'batch_size > 1'.Batchnorm layers could potentially produce false outputs.\n",
            "  \"Using experimental implementation that allows 'batch_size > 1'.\"\n"
          ],
          "name": "stderr"
        }
      ]
    },
    {
      "cell_type": "code",
      "metadata": {
        "colab": {
          "base_uri": "https://localhost:8080/"
        },
        "id": "he1bzg_wWLTa",
        "outputId": "a4b7bc4a-5931-4251-be7c-291705f68a35"
      },
      "source": [
        "#get dqn networks with weights of the best actor (net1). I got some convertnet errors otherwise\n",
        "num_actions = 6\n",
        "dqn = DQNNetwork_atari(num_actions=num_actions).to(device)\n",
        "dqn_target = DQNNetwork_atari(num_actions=num_actions).to(device)\n",
        "\n",
        "#get the learned weights from the best actor\n",
        "target_state_dict = dqn.state_dict()\n",
        "for idx,i in enumerate(target_state_dict):\n",
        "  target_state_dict[i] = net1.state_dict()[list(net1.state_dict().keys())[idx]]\n",
        "dqn.load_state_dict(target_state_dict)\n",
        "\n",
        "#get the learned weights from the best actor for the target network\n",
        "target_state_dict = dqn_target.state_dict()\n",
        "for idx,i in enumerate(target_state_dict):\n",
        "  target_state_dict[i] = net1.state_dict()[list(net1.state_dict().keys())[idx]]\n",
        "dqn_target.load_state_dict(target_state_dict)"
      ],
      "execution_count": null,
      "outputs": [
        {
          "output_type": "execute_result",
          "data": {
            "text/plain": [
              "<All keys matched successfully>"
            ]
          },
          "metadata": {
            "tags": []
          },
          "execution_count": 13
        }
      ]
    },
    {
      "cell_type": "code",
      "metadata": {
        "id": "cDtevBt_CBEx"
      },
      "source": [
        "net1.train()\n",
        "net2.train()\n",
        "net3.train()\n",
        "net4.train()\n",
        "net5.train()\n",
        "model2 = net2.to(device)\n",
        "model3 = net3.to(device)\n",
        "model4 = net4.to(device)\n",
        "model5 = net5.to(device)\n",
        "opponent1 = partial(model_actor, model=model2) # onnx\n",
        "opponent2 = partial(model_actor, model=model3) # final\n",
        "opponent3 = partial(model_actor, model=model4) # other\n",
        "opponent4 = partial(model_actor, model=model5) # first\n",
        "\n",
        "actors = [None, opponent1, opponent3, opponent4, no_bomb_random_actor, opponent2] #None is the simple agent from the first challenge\n",
        "opponent_strings = ['simple agent', 'opponent1', 'opponent3', 'opponent4', 'no_bomb_random_actor', 'opponent2']\n",
        "num_episodes = [1, 1, 1, 1, 1, 1]\n",
        "actor_curriculum = chain.from_iterable([[actor] * num_episodes for num_episodes, actor in zip(num_episodes, actors)])"
      ],
      "execution_count": null,
      "outputs": []
    },
    {
      "cell_type": "markdown",
      "metadata": {
        "id": "6i1xTw6FCS3C"
      },
      "source": [
        "# Training"
      ]
    },
    {
      "cell_type": "markdown",
      "metadata": {
        "id": "K8JCTNW4Cc_i"
      },
      "source": [
        "#### Hyperparameters"
      ]
    },
    {
      "cell_type": "code",
      "metadata": {
        "id": "i8rNTgVCQLLW"
      },
      "source": [
        "# Hyperparameters\n",
        "num_episodes_per_run = 2000 # number of episodes\n",
        "buffer_size = 10 ** 5 * 3 # size of the buffer to use\n",
        "epsilon = 0.3 # prob of selecting random action a\n",
        "timesteps = 0 # counter for number of frames\n",
        "minibatch_size = 64 # size of the minibatch sampled\n",
        "gamma = 0.99 # discount factor\n",
        "eval_episode = 100\n",
        "num_eval = 10\n",
        "tau = 1e-3 # for updating the target network\n",
        "learning_rate = 0.00001 \n",
        "update_after = 2000 # update after num time steps\n",
        "epsilon_decay = 9**3 \n",
        "epsilon_ub = 0.3 \n",
        "epsilon_lb = 0.02"
      ],
      "execution_count": null,
      "outputs": []
    },
    {
      "cell_type": "markdown",
      "metadata": {
        "id": "4UiRC77LCtGH"
      },
      "source": [
        "#### Train Loop"
      ]
    },
    {
      "cell_type": "markdown",
      "metadata": {
        "id": "JliCrOJGc8MU"
      },
      "source": [
        "Training uses first the simple agent but with a different start position than in the first stage. Then it trains against our other agents.\n",
        "The number of episodes is actually multiplied with num_episodes_per_run. The start position is alternatingly switched with each num_episodes. So now the first 100 episodes with start position 1, then 100 with start position 0, then the next agent."
      ]
    },
    {
      "cell_type": "code",
      "metadata": {
        "colab": {
          "base_uri": "https://localhost:8080/"
        },
        "id": "5hqCFxRFNa4s",
        "outputId": "ecf23eee-a115-4fb2-8e33-faf2a8c3a79b"
      },
      "source": [
        "start_pos = 1\n",
        "episode = 0\n",
        "count = 0\n",
        "for actor, opponent_string in list(zip(actor_curriculum, opponent_strings)):\n",
        "  print()\n",
        "  print('Opponent: {}'.format(opponent_string))\n",
        "  start_pos = (1 if start_pos == 0 else 0)\n",
        "  env = PommerEnvWrapperFrameSkip2(num_stack=5, start_pos=start_pos, opponent_actor = actor, board='GraphicOVOCompact-v0')\n",
        "\n",
        "  returns = []\n",
        "  returns_50 = deque(maxlen=50)\n",
        "  losses = []\n",
        "  buffer = ReplayBuffer(num_actions=num_actions, memory_len=buffer_size)\n",
        "  optimizer = optim.Adam(dqn.parameters(), lr=learning_rate)\n",
        "  mse = torch.nn.MSELoss()\n",
        "\n",
        "  player_obs, opp_obs = env.reset()\n",
        "\n",
        "  timesteps = 0\n",
        " \n",
        "  for i in range(num_episodes_per_run):\n",
        "    ret = 0\n",
        "    done = False\n",
        "    while not done:\n",
        "      # Decay epsilon :\n",
        "      epsilon = max(epsilon_lb, epsilon_ub - timesteps/ epsilon_decay)\n",
        "      # action selection\n",
        "      if np.random.choice([0,1], p=[1-epsilon,epsilon]) == 1:\n",
        "        a = np.random.randint(low=0, high=num_actions, size=1)[0]\n",
        "      else:\n",
        "        player_obs = np.array(player_obs).astype(np.uint8)\n",
        "        net_out = dqn(torch.from_numpy(player_obs).type(torch.float32).to(device)).detach().cpu().numpy()\n",
        "        a = np.argmax(net_out)\n",
        "\n",
        "      player_step, opponent_step = env.step(a)\n",
        "      player_next_obs, player_r, done, info = player_step\n",
        "      # opponent_next_obs, opponent_r, done, info = opponent_step\n",
        "\n",
        "      # next_state, r, done, info = env.step(a)\n",
        "      ret = ret + player_r\n",
        "      player_next_obs = np.array(player_next_obs).astype(np.uint8)\n",
        "      # store transition in the replay buffer \n",
        "      # Code Block: (a)\n",
        "      buffer.add(player_obs, a, player_r, player_next_obs, done)\n",
        "      player_obs = player_next_obs\n",
        "      timesteps = timesteps + 1\n",
        "\n",
        "      # update policy using temporal difference\n",
        "      if buffer.length() > minibatch_size and buffer.length() > update_after:\n",
        "        optimizer.zero_grad()\n",
        "\n",
        "        # Sample a minibatch randomly\n",
        "        # Code Block: (a)\n",
        "        states, actions, rewards, next_states, batch_done = buffer.sample_batch(batch_size=minibatch_size)\n",
        "        \n",
        "        # Compute q values for states\n",
        "        # Code Block: (g)\n",
        "        q_values = dqn(torch.from_numpy(states).type(torch.float32).to(device))\n",
        "\n",
        "        # compute the targets for training\n",
        "        # Code Block: (g)\n",
        "        q_values_target = dqn_target(torch.from_numpy(next_states).type(torch.float32).to(device))\n",
        "        not_done = batch_done==0\n",
        "        targets = rewards.clone()\n",
        "        rewards_not_last_state = rewards + gamma * torch.max(q_values_target, 1).values\n",
        "        targets[not_done] = rewards_not_last_state.long()[not_done]\n",
        "        targets = targets.type(torch.FloatTensor).to(device)\n",
        "\n",
        "        # compute the predictions for training\n",
        "        # Code Block: (g)\n",
        "        predictions = q_values[actions==1]\n",
        "\n",
        "        # Update loss: mse = mean squared error\n",
        "        loss = mse(predictions, targets) \n",
        "        loss.backward(retain_graph=False)\n",
        "        optimizer.step()\n",
        "        losses.append(loss.item())\n",
        "  \n",
        "        # Update target network\n",
        "        # Code Block: (h)\n",
        "        soft_update(dqn, dqn_target, tau)\n",
        "\n",
        "        # Buffer update\n",
        "        if prioritized_replay:\n",
        "          buffer.update_td_errors(indices, torch.abs(predictions - targets).detach().cpu())\n",
        "      if done:\n",
        "        player_obs, opp_obs = env.reset()\n",
        "        # print(\"Episode: \", i, \" \", ret)\n",
        "        break\n",
        "    if count % 1000 == 0:\n",
        "      torch.save(dqn.state_dict(), path + 'checkpoint_dqn_{}.pth'.format(count))\n",
        "      torch.save(dqn_target.state_dict(), path + 'checkpoint_dqn_target_{}.pth'.format(count))\n",
        "    count += 1\n",
        "    returns.append(ret)\n",
        "    returns_50.append(ret)\n",
        "    if i % 50 == 0:\n",
        "      print('\\rEpisode {}\\tAverage Score: {:.2f}'.format(i, np.mean(returns_50)))  \n",
        "    episode = episode + 1\n",
        "\n",
        "    #print('\\rStart Position: {}'.format(start_pos) )"
      ],
      "execution_count": null,
      "outputs": [
        {
          "output_type": "stream",
          "text": [
            "\n",
            "Opponent: simple agent\n",
            "Episode 0\tAverage Score: -1.00\n",
            "Episode 50\tAverage Score: 0.06\n",
            "Episode 100\tAverage Score: -0.34\n",
            "Episode 150\tAverage Score: -0.58\n",
            "Episode 200\tAverage Score: -0.62\n",
            "Episode 250\tAverage Score: -0.48\n",
            "Episode 300\tAverage Score: -0.52\n",
            "Episode 350\tAverage Score: -0.56\n",
            "Episode 400\tAverage Score: -0.50\n",
            "Episode 450\tAverage Score: -0.58\n",
            "Episode 500\tAverage Score: -0.52\n",
            "Episode 550\tAverage Score: -0.56\n",
            "Episode 600\tAverage Score: -0.66\n",
            "Episode 650\tAverage Score: -0.46\n",
            "Episode 700\tAverage Score: -0.76\n",
            "Episode 750\tAverage Score: -0.44\n",
            "Episode 800\tAverage Score: -0.58\n",
            "Episode 850\tAverage Score: -0.62\n",
            "Episode 900\tAverage Score: -0.44\n",
            "Episode 950\tAverage Score: -0.44\n",
            "Episode 1000\tAverage Score: -0.78\n",
            "Episode 1050\tAverage Score: -0.50\n",
            "Episode 1100\tAverage Score: -0.58\n",
            "Episode 1150\tAverage Score: -0.50\n",
            "Episode 1200\tAverage Score: -0.36\n",
            "Episode 1250\tAverage Score: -0.56\n",
            "Episode 1300\tAverage Score: -0.74\n",
            "Episode 1350\tAverage Score: -0.38\n",
            "Episode 1400\tAverage Score: -0.54\n",
            "Episode 1450\tAverage Score: -0.56\n",
            "Episode 1500\tAverage Score: -0.46\n",
            "Episode 1550\tAverage Score: -0.42\n",
            "Episode 1600\tAverage Score: -0.36\n",
            "Episode 1650\tAverage Score: -0.58\n",
            "Episode 1700\tAverage Score: -0.52\n",
            "Episode 1750\tAverage Score: -0.78\n",
            "Episode 1800\tAverage Score: -0.48\n",
            "Episode 1850\tAverage Score: -0.66\n",
            "Episode 1900\tAverage Score: -0.40\n",
            "Episode 1950\tAverage Score: -0.44\n",
            "\n",
            "Opponent: opponent1\n",
            "Episode 0\tAverage Score: -1.00\n",
            "Episode 50\tAverage Score: -0.72\n",
            "Episode 100\tAverage Score: -0.66\n",
            "Episode 150\tAverage Score: -0.60\n",
            "Episode 200\tAverage Score: -0.44\n",
            "Episode 250\tAverage Score: -0.66\n",
            "Episode 300\tAverage Score: -0.56\n",
            "Episode 350\tAverage Score: -0.36\n",
            "Episode 400\tAverage Score: -0.60\n",
            "Episode 450\tAverage Score: -0.28\n",
            "Episode 500\tAverage Score: -0.44\n",
            "Episode 550\tAverage Score: -0.28\n",
            "Episode 600\tAverage Score: -0.54\n",
            "Episode 650\tAverage Score: -0.54\n",
            "Episode 700\tAverage Score: -0.50\n",
            "Episode 750\tAverage Score: -0.44\n",
            "Episode 800\tAverage Score: -0.56\n",
            "Episode 850\tAverage Score: -0.64\n",
            "Episode 900\tAverage Score: -0.50\n",
            "Episode 950\tAverage Score: -0.30\n",
            "Episode 1000\tAverage Score: -0.20\n",
            "Episode 1050\tAverage Score: -0.32\n",
            "Episode 1100\tAverage Score: -0.32\n",
            "Episode 1150\tAverage Score: -0.32\n",
            "Episode 1200\tAverage Score: -0.20\n",
            "Episode 1250\tAverage Score: -0.18\n",
            "Episode 1300\tAverage Score: -0.16\n",
            "Episode 1350\tAverage Score: -0.08\n",
            "Episode 1400\tAverage Score: -0.20\n",
            "Episode 1450\tAverage Score: -0.10\n",
            "Episode 1500\tAverage Score: -0.30\n",
            "Episode 1550\tAverage Score: -0.28\n",
            "Episode 1600\tAverage Score: -0.16\n",
            "Episode 1650\tAverage Score: -0.08\n",
            "Episode 1700\tAverage Score: -0.02\n",
            "Episode 1750\tAverage Score: -0.18\n",
            "Episode 1800\tAverage Score: 0.04\n",
            "Episode 1850\tAverage Score: 0.06\n",
            "Episode 1900\tAverage Score: -0.26\n",
            "Episode 1950\tAverage Score: -0.10\n",
            "\n",
            "Opponent: opponent3\n",
            "Episode 0\tAverage Score: 1.00\n",
            "Episode 50\tAverage Score: 0.10\n",
            "Episode 100\tAverage Score: -0.46\n",
            "Episode 150\tAverage Score: 0.36\n",
            "Episode 200\tAverage Score: 0.14\n",
            "Episode 250\tAverage Score: 0.12\n",
            "Episode 300\tAverage Score: 0.30\n",
            "Episode 350\tAverage Score: 0.12\n",
            "Episode 400\tAverage Score: 0.26\n",
            "Episode 450\tAverage Score: -0.12\n",
            "Episode 500\tAverage Score: 0.24\n",
            "Episode 550\tAverage Score: 0.26\n",
            "Episode 600\tAverage Score: 0.32\n",
            "Episode 650\tAverage Score: 0.16\n",
            "Episode 700\tAverage Score: 0.08\n",
            "Episode 750\tAverage Score: 0.06\n",
            "Episode 800\tAverage Score: 0.14\n",
            "Episode 850\tAverage Score: 0.08\n",
            "Episode 900\tAverage Score: 0.18\n",
            "Episode 950\tAverage Score: 0.30\n",
            "Episode 1000\tAverage Score: 0.12\n",
            "Episode 1050\tAverage Score: -0.08\n",
            "Episode 1100\tAverage Score: -0.02\n",
            "Episode 1150\tAverage Score: 0.02\n",
            "Episode 1200\tAverage Score: 0.02\n",
            "Episode 1250\tAverage Score: 0.00\n",
            "Episode 1300\tAverage Score: 0.10\n",
            "Episode 1350\tAverage Score: 0.22\n",
            "Episode 1400\tAverage Score: 0.28\n",
            "Episode 1450\tAverage Score: 0.30\n",
            "Episode 1500\tAverage Score: 0.26\n",
            "Episode 1550\tAverage Score: 0.26\n",
            "Episode 1600\tAverage Score: 0.40\n",
            "Episode 1650\tAverage Score: 0.10\n",
            "Episode 1700\tAverage Score: 0.16\n",
            "Episode 1750\tAverage Score: 0.20\n",
            "Episode 1800\tAverage Score: 0.38\n",
            "Episode 1850\tAverage Score: 0.42\n",
            "Episode 1900\tAverage Score: 0.20\n",
            "Episode 1950\tAverage Score: 0.10\n",
            "\n",
            "Opponent: opponent4\n",
            "Episode 0\tAverage Score: -1.00\n",
            "Episode 50\tAverage Score: -0.60\n",
            "Episode 100\tAverage Score: -0.16\n",
            "Episode 150\tAverage Score: -0.28\n",
            "Episode 200\tAverage Score: -0.24\n",
            "Episode 250\tAverage Score: -0.04\n",
            "Episode 300\tAverage Score: -0.22\n",
            "Episode 350\tAverage Score: -0.02\n",
            "Episode 400\tAverage Score: -0.26\n",
            "Episode 450\tAverage Score: -0.16\n",
            "Episode 500\tAverage Score: -0.06\n",
            "Episode 550\tAverage Score: 0.26\n",
            "Episode 600\tAverage Score: 0.22\n",
            "Episode 650\tAverage Score: -0.10\n",
            "Episode 700\tAverage Score: 0.16\n",
            "Episode 750\tAverage Score: 0.04\n",
            "Episode 800\tAverage Score: -0.02\n",
            "Episode 850\tAverage Score: 0.20\n",
            "Episode 900\tAverage Score: -0.28\n",
            "Episode 950\tAverage Score: 0.10\n",
            "Episode 1000\tAverage Score: -0.04\n",
            "Episode 1050\tAverage Score: 0.00\n",
            "Episode 1100\tAverage Score: 0.08\n",
            "Episode 1150\tAverage Score: 0.10\n",
            "Episode 1200\tAverage Score: -0.18\n",
            "Episode 1250\tAverage Score: 0.32\n",
            "Episode 1300\tAverage Score: 0.20\n",
            "Episode 1350\tAverage Score: -0.38\n",
            "Episode 1400\tAverage Score: -0.02\n",
            "Episode 1450\tAverage Score: 0.16\n",
            "Episode 1500\tAverage Score: -0.16\n",
            "Episode 1550\tAverage Score: 0.04\n",
            "Episode 1600\tAverage Score: -0.12\n",
            "Episode 1650\tAverage Score: -0.02\n",
            "Episode 1700\tAverage Score: -0.18\n",
            "Episode 1750\tAverage Score: -0.18\n",
            "Episode 1800\tAverage Score: -0.04\n",
            "Episode 1850\tAverage Score: -0.06\n",
            "Episode 1900\tAverage Score: 0.04\n",
            "Episode 1950\tAverage Score: 0.30\n",
            "\n",
            "Opponent: no_bomb_random_actor\n",
            "Episode 0\tAverage Score: 0.00\n",
            "Episode 50\tAverage Score: -0.44\n",
            "Episode 100\tAverage Score: -0.40\n",
            "Episode 150\tAverage Score: -0.44\n",
            "Episode 200\tAverage Score: -0.24\n",
            "Episode 250\tAverage Score: -0.16\n",
            "Episode 300\tAverage Score: 0.10\n",
            "Episode 350\tAverage Score: -0.14\n",
            "Episode 400\tAverage Score: 0.10\n",
            "Episode 450\tAverage Score: -0.02\n",
            "Episode 500\tAverage Score: -0.06\n",
            "Episode 550\tAverage Score: -0.12\n",
            "Episode 600\tAverage Score: -0.34\n",
            "Episode 650\tAverage Score: -0.16\n",
            "Episode 700\tAverage Score: -0.06\n",
            "Episode 750\tAverage Score: -0.24\n",
            "Episode 800\tAverage Score: -0.22\n",
            "Episode 850\tAverage Score: -0.30\n",
            "Episode 900\tAverage Score: -0.12\n",
            "Episode 950\tAverage Score: -0.16\n",
            "Episode 1000\tAverage Score: -0.20\n",
            "Episode 1050\tAverage Score: 0.00\n",
            "Episode 1100\tAverage Score: -0.18\n",
            "Episode 1150\tAverage Score: -0.16\n",
            "Episode 1200\tAverage Score: -0.36\n",
            "Episode 1250\tAverage Score: -0.14\n",
            "Episode 1300\tAverage Score: 0.00\n",
            "Episode 1350\tAverage Score: -0.32\n",
            "Episode 1400\tAverage Score: -0.14\n",
            "Episode 1450\tAverage Score: -0.18\n",
            "Episode 1500\tAverage Score: -0.12\n",
            "Episode 1550\tAverage Score: -0.12\n",
            "Episode 1600\tAverage Score: 0.04\n",
            "Episode 1650\tAverage Score: -0.14\n",
            "Episode 1700\tAverage Score: -0.02\n",
            "Episode 1750\tAverage Score: -0.02\n",
            "Episode 1800\tAverage Score: -0.16\n",
            "Episode 1850\tAverage Score: -0.30\n",
            "Episode 1900\tAverage Score: -0.04\n",
            "Episode 1950\tAverage Score: -0.18\n",
            "\n",
            "Opponent: opponent2\n",
            "Episode 0\tAverage Score: 0.00\n",
            "Episode 50\tAverage Score: -0.70\n",
            "Episode 100\tAverage Score: -0.70\n",
            "Episode 150\tAverage Score: -0.70\n",
            "Episode 200\tAverage Score: -0.48\n",
            "Episode 250\tAverage Score: -0.44\n",
            "Episode 300\tAverage Score: -0.36\n",
            "Episode 350\tAverage Score: -0.68\n",
            "Episode 400\tAverage Score: -0.60\n",
            "Episode 450\tAverage Score: -0.54\n",
            "Episode 500\tAverage Score: -0.44\n",
            "Episode 550\tAverage Score: -0.50\n",
            "Episode 600\tAverage Score: -0.40\n",
            "Episode 650\tAverage Score: -0.40\n",
            "Episode 700\tAverage Score: -0.34\n",
            "Episode 750\tAverage Score: -0.42\n",
            "Episode 800\tAverage Score: -0.24\n",
            "Episode 850\tAverage Score: -0.30\n",
            "Episode 900\tAverage Score: -0.38\n",
            "Episode 950\tAverage Score: -0.38\n",
            "Episode 1000\tAverage Score: -0.40\n",
            "Episode 1050\tAverage Score: -0.60\n",
            "Episode 1100\tAverage Score: -0.36\n",
            "Episode 1150\tAverage Score: -0.40\n",
            "Episode 1200\tAverage Score: -0.38\n",
            "Episode 1250\tAverage Score: -0.58\n",
            "Episode 1300\tAverage Score: -0.32\n",
            "Episode 1350\tAverage Score: -0.44\n",
            "Episode 1400\tAverage Score: -0.60\n",
            "Episode 1450\tAverage Score: -0.20\n",
            "Episode 1500\tAverage Score: -0.38\n",
            "Episode 1550\tAverage Score: -0.40\n",
            "Episode 1600\tAverage Score: -0.40\n",
            "Episode 1650\tAverage Score: -0.52\n",
            "Episode 1700\tAverage Score: -0.34\n",
            "Episode 1750\tAverage Score: -0.60\n",
            "Episode 1800\tAverage Score: -0.54\n",
            "Episode 1850\tAverage Score: -0.12\n",
            "Episode 1900\tAverage Score: -0.54\n",
            "Episode 1950\tAverage Score: -0.30\n"
          ],
          "name": "stdout"
        }
      ]
    },
    {
      "cell_type": "markdown",
      "metadata": {
        "id": "zQddPji4C40g"
      },
      "source": [
        "# Save agent"
      ]
    },
    {
      "cell_type": "code",
      "metadata": {
        "id": "mCqejKjRkjqZ"
      },
      "source": [
        "# save model parameters for submitting solution using the following line of code\n",
        "state = env.reset()\n",
        "torch.onnx.export(dqn.cpu(), # model\n",
        "                  torch.tensor(state, dtype=torch.float), # example model input\n",
        "                  path + \"submission.onnx\", # name of the submission\n",
        "                  export_params=True, # save trained parameters\n",
        "                  opset_version=10,\n",
        "                  do_constant_folding=True)"
      ],
      "execution_count": null,
      "outputs": []
    },
    {
      "cell_type": "code",
      "metadata": {
        "id": "7s4Yb-asZO4X"
      },
      "source": [
        ""
      ],
      "execution_count": null,
      "outputs": []
    }
  ]
}